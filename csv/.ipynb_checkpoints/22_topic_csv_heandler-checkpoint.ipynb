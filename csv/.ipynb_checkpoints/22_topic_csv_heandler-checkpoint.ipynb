{
 "cells": [
  {
   "cell_type": "code",
   "execution_count": 28,
   "metadata": {},
   "outputs": [
    {
     "data": {
      "text/plain": [
       "0.999364  0  0.008857  0.863402  0  0.014514  0.999593  0.00001  0  0.99918  0  0  0.826722  0.012064  0  0.754925  0  0  1.00001  0.00001  0  1.00001  0.00001  0  0.859674  0  0  1.00001  0  0  1.00001  0.00001  0  0.863402  0  0.014514  1.00001  0  0  0.999364  0  0.008857  0.826722  0.012064  0  0.997687  0  0.019729  0.999593  0.00001  0  0.99479  0  0.100889  0.99918  0  0    1.00001\n",
       "Name: neutral, dtype: float64"
      ]
     },
     "metadata": {},
     "output_type": "display_data"
    }
   ],
   "source": [
    "import pandas as pd\n",
    "fieldnames = ['neutral','negative','positive'\n",
    "    ]\n",
    "df = pd.read_csv('headles_tone_topic_data.csv' ,delimiter=',')\n",
    "res = df['neutral']\n",
    "display(res) # печатаем результат\n"
   ]
  }
 ],
 "metadata": {
  "kernelspec": {
   "display_name": "Python 3",
   "language": "python",
   "name": "python3"
  },
  "language_info": {
   "codemirror_mode": {
    "name": "ipython",
    "version": 3
   },
   "file_extension": ".py",
   "mimetype": "text/x-python",
   "name": "python",
   "nbconvert_exporter": "python",
   "pygments_lexer": "ipython3",
   "version": "3.8.8"
  }
 },
 "nbformat": 4,
 "nbformat_minor": 1
}
